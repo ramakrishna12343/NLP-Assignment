{
  "nbformat": 4,
  "nbformat_minor": 0,
  "metadata": {
    "colab": {
      "provenance": [],
      "authorship_tag": "ABX9TyNLRsD0oOnuVnj7wm286QmJ",
      "include_colab_link": true
    },
    "kernelspec": {
      "name": "python3",
      "display_name": "Python 3"
    },
    "language_info": {
      "name": "python"
    }
  },
  "cells": [
    {
      "cell_type": "markdown",
      "metadata": {
        "id": "view-in-github",
        "colab_type": "text"
      },
      "source": [
        "<a href=\"https://colab.research.google.com/github/ramakrishna12343/NLP-Assignment/blob/main/6_03_2025.ipynb\" target=\"_parent\"><img src=\"https://colab.research.google.com/assets/colab-badge.svg\" alt=\"Open In Colab\"/></a>"
      ]
    },
    {
      "cell_type": "code",
      "source": [
        "import nltk\n",
        "\n",
        "import re\n",
        "\n",
        "from nltk.chat.util import Chat, reflections"
      ],
      "metadata": {
        "id": "BKQ0XyQa3_Xb"
      },
      "execution_count": 1,
      "outputs": []
    },
    {
      "cell_type": "code",
      "source": [
        "import nltk\n",
        "nltk.download('punkt')\n",
        "\n",
        "nltk.download('averaged_perceptron_tagger')"
      ],
      "metadata": {
        "colab": {
          "base_uri": "https://localhost:8080/"
        },
        "id": "Pb5Qq4NY4hys",
        "outputId": "55996498-5f9b-4870-ff8b-d279b2951d3e"
      },
      "execution_count": 1,
      "outputs": [
        {
          "output_type": "stream",
          "name": "stderr",
          "text": [
            "[nltk_data] Downloading package punkt to /root/nltk_data...\n",
            "[nltk_data]   Unzipping tokenizers/punkt.zip.\n",
            "[nltk_data] Downloading package averaged_perceptron_tagger to\n",
            "[nltk_data]     /root/nltk_data...\n",
            "[nltk_data]   Unzipping taggers/averaged_perceptron_tagger.zip.\n"
          ]
        },
        {
          "output_type": "execute_result",
          "data": {
            "text/plain": [
              "True"
            ]
          },
          "metadata": {},
          "execution_count": 1
        }
      ]
    },
    {
      "cell_type": "code",
      "source": [
        "pairs = [\n",
        "[r\"my name is ( .* )\", [\"Hello %1, how can I assist you today?\", ]],\n",
        "[r\"hi|hey|hello\", [\"Hello, how can I help you?\", \"Hey there! What can I do for you?\",\"Hi! How can I assist you today?\"]],\n",
        "[r\"what is your name?\", [\"I am a chatbot created to assist you. You can call me Chatbot.\", ]],\n",
        "[r\"how are you?\", [\"I'm a bot, so I don't have feelings, but I'm here to help you!\", ]],\n",
        "[r\"can you help me with ( .* )\", [\"Sure, I can help you with %1. Please provide more details.\", ]],\n",
        "[r\"sorry ( .* )\", [\"It's okay. How can I assist you?\", ]],\n",
        "[r\"thank you| thanks\", [\"You're welcome!\", \"No problem!\", \"Happy to help!\"]],\n",
        "[r\"quit\", [\"Bye! Have a great day!\", \"Goodbye!\"]],\n",
        "[r\"best|place ( .* )\", [\"Hyderabad\", \"Banglore\", \"Vizag\", \"Mumbai\"]],\n",
        "[r\"golden|temple ( .* )\", [\"it is in amristar,india\"]],\n",
        "[r\"( .* )\", [\"I'm sorry, I don't understand that. Can you rephrase?\",\"Could you please elaborate on that?\"]]]"
      ],
      "metadata": {
        "id": "fqAc53lW4ot7"
      },
      "execution_count": 2,
      "outputs": []
    },
    {
      "cell_type": "code",
      "source": [
        "class RBChatbot:\n",
        "  def __init__(self, pairs):\n",
        "      self.chat = Chat(pairs, reflections)\n",
        "  def respond(self, user_input):\n",
        "      return self.chat.respond(user_input)\n",
        "chatbot = RBChatbot(pairs)"
      ],
      "metadata": {
        "id": "Aqs1aChv5RMh"
      },
      "execution_count": 3,
      "outputs": []
    },
    {
      "cell_type": "code",
      "execution_count": null,
      "metadata": {
        "colab": {
          "base_uri": "https://localhost:8080/"
        },
        "id": "8T-kavAJ38xY",
        "outputId": "7ded60e3-0446-4f4d-8295-f72ce36895a4"
      },
      "outputs": [
        {
          "output_type": "stream",
          "name": "stdout",
          "text": [
            "Hi, I'm your chatbot. Type 'quit' to exit.\n",
            "You: best\n",
            "Chatbot: Banglore\n",
            "You: temple\n",
            "Chatbot: None\n",
            "You: golden\n",
            "Chatbot: it is in amristar,india\n",
            "You: how are you?\n",
            "Chatbot: I'm a bot, so I don't have feelings, but I'm here to help you!\n"
          ]
        }
      ],
      "source": [
        "def chat_with_bot():\n",
        "\n",
        "    print(\"Hi, I'm your chatbot. Type 'quit' to exit.\")\n",
        "\n",
        "    while True:\n",
        "\n",
        "        user_input = input(\"You: \")\n",
        "\n",
        "        if user_input.lower() == 'quit':\n",
        "\n",
        "            print(\"Chatbot: Bye! Have a great day!\")\n",
        "\n",
        "            break\n",
        "\n",
        "        response = chatbot.respond(user_input)\n",
        "\n",
        "        print(f\"Chatbot: {response}\")\n",
        "\n",
        "chat_with_bot()"
      ]
    }
  ]
}