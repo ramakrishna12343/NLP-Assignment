{
  "nbformat": 4,
  "nbformat_minor": 0,
  "metadata": {
    "colab": {
      "provenance": []
    },
    "kernelspec": {
      "name": "python3",
      "display_name": "Python 3"
    },
    "language_info": {
      "name": "python"
    }
  },
  "cells": [
    {
      "cell_type": "code",
      "execution_count": null,
      "metadata": {
        "id": "JN4XsymPIJ0S"
      },
      "outputs": [],
      "source": [
        "import requests\n",
        "from bs4 import BeautifulSoup\n",
        "\n",
        "def get_page_title(url):\n",
        "  \"\"\"Fetches the title of a webpage.\n",
        "\n",
        "  Args:\n",
        "    url: The URL of the webpage.\n",
        "\n",
        "  Returns:\n",
        "    The title of the webpage, or None if an error occurs.\n",
        "  \"\"\"\n",
        "  try:\n",
        "    response = requests.get(url)\n",
        "    response.raise_for_status()  # Raise an exception for bad status codes\n",
        "    soup = BeautifulSoup(response.content, 'html.parser')\n",
        "    title = soup.title.string\n",
        "    return title\n",
        "  except requests.exceptions.RequestException as e:\n",
        "    print(f\"Error fetching URL: {e}\")\n",
        "    return None\n",
        "  except Exception as e:\n",
        "    print(f\"Error extracting title: {e}\")\n",
        "    return None\n",
        "\n",
        "# Test with the given URL\n",
        "url = 'https://example.com'\n",
        "title = get_page_title(url)\n",
        "\n",
        "if title:\n",
        "  print(f\"The title of the webpage is: {title}\")"
      ]
    }
  ]
}