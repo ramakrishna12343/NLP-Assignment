{
  "nbformat": 4,
  "nbformat_minor": 0,
  "metadata": {
    "colab": {
      "provenance": [],
      "authorship_tag": "ABX9TyO2ShNKVN9MIQsuXzAZpWyP",
      "include_colab_link": true
    },
    "kernelspec": {
      "name": "python3",
      "display_name": "Python 3"
    },
    "language_info": {
      "name": "python"
    }
  },
  "cells": [
    {
      "cell_type": "markdown",
      "metadata": {
        "id": "view-in-github",
        "colab_type": "text"
      },
      "source": [
        "<a href=\"https://colab.research.google.com/github/ramakrishna12343/NLP-Assignment/blob/main/18_02_2025.ipynb\" target=\"_parent\"><img src=\"https://colab.research.google.com/assets/colab-badge.svg\" alt=\"Open In Colab\"/></a>"
      ]
    },
    {
      "cell_type": "code",
      "source": [
        "pip install requests beautifulsoup4"
      ],
      "metadata": {
        "id": "thQgYABxeXAo"
      },
      "execution_count": null,
      "outputs": []
    },
    {
      "cell_type": "code",
      "execution_count": 4,
      "metadata": {
        "id": "KYcLLXqqeIxq"
      },
      "outputs": [],
      "source": [
        "import requests\n",
        "\n",
        "from bs4 import BeautifulSoup\n",
        "\n",
        "url = \"http://quotes.toscrape.com/\"\n",
        "\n",
        "response = requests.get(url)"
      ]
    },
    {
      "cell_type": "code",
      "source": [
        "if response.status_code == 200:\n",
        "    soup = BeautifulSoup(response.text, 'html.parser')\n",
        "\n",
        "\n",
        "\n",
        "    quotes = soup.find_all(\"div\", class_=\"quote\")\n",
        "    for i, quote in enumerate(quotes[:5]):\n",
        "\n",
        "        text = quote.find(\"span\", class_=\"text\").text\n",
        "\n",
        "        author = quote.find(\"small\", class_=\"author\").text\n",
        "        tags = [tag.text for tag in quote.find_all(\"a\", class_=\"tag\")]\n",
        "\n",
        "\n",
        "\n",
        "        print(f\"{i+1}. \\\"{text}\\\" - {author}\")\n",
        "\n",
        "        print(f\"   Tags: {', '.join(tags)}\\n\")\n",
        "\n",
        "else:\n",
        "\n",
        "    print(f\"Failed to retrieve the webpage. Status Code: {response.status_code}\")\n",
        "\n",
        "\n",
        "\n",
        "\n"
      ],
      "metadata": {
        "colab": {
          "base_uri": "https://localhost:8080/"
        },
        "id": "h305r5F2f4ZP",
        "outputId": "3ec24646-b6ba-4188-9cf0-a6d263dfe3bd"
      },
      "execution_count": 8,
      "outputs": [
        {
          "output_type": "stream",
          "name": "stdout",
          "text": [
            "1. \"“The world as we have created it is a process of our thinking. It cannot be changed without changing our thinking.”\" - Albert Einstein\n",
            "   Tags: change, deep-thoughts, thinking, world\n",
            "\n",
            "2. \"“It is our choices, Harry, that show what we truly are, far more than our abilities.”\" - J.K. Rowling\n",
            "   Tags: abilities, choices\n",
            "\n",
            "3. \"“There are only two ways to live your life. One is as though nothing is a miracle. The other is as though everything is a miracle.”\" - Albert Einstein\n",
            "   Tags: inspirational, life, live, miracle, miracles\n",
            "\n",
            "4. \"“The person, be it gentleman or lady, who has not pleasure in a good novel, must be intolerably stupid.”\" - Jane Austen\n",
            "   Tags: aliteracy, books, classic, humor\n",
            "\n",
            "5. \"“Imperfection is beauty, madness is genius and it's better to be absolutely ridiculous than absolutely boring.”\" - Marilyn Monroe\n",
            "   Tags: be-yourself, inspirational\n",
            "\n"
          ]
        }
      ]
    },
    {
      "cell_type": "code",
      "source": [
        "import requests\n",
        "\n",
        "from bs4 import BeautifulSoup\n",
        "\n",
        "city = \"india/hyderabad\"\n",
        "\n",
        "url = f\"https://www.timeanddate.com/weather/{city}\"\n",
        "\n",
        "response = requests.get(url)\n",
        "\n",
        "soup = BeautifulSoup(response.text, 'html.parser')\n",
        "\n",
        "temp = soup.find(\"div\", class_=\"h2\").text.strip() if soup.find(\"div\", class_=\"h2\") else \"N/A\"\n",
        "\n",
        "desc = soup.find(\"p\").text.strip() if soup.find(\"p\") else \"N/A\"\n",
        "\n",
        "\n",
        "\n",
        "print(f\"Current Weather in Hyderabad: {temp} | {desc}\")"
      ],
      "metadata": {
        "colab": {
          "base_uri": "https://localhost:8080/"
        },
        "id": "PFR2229AgR2q",
        "outputId": "c2152987-0cec-4b8a-9595-0f3f1ff5073b"
      },
      "execution_count": 9,
      "outputs": [
        {
          "output_type": "stream",
          "name": "stdout",
          "text": [
            "Current Weather in Hyderabad: 86 °F | Clear.\n"
          ]
        }
      ]
    },
    {
      "cell_type": "code",
      "source": [
        "import requests\n",
        "\n",
        "from bs4 import BeautifulSoup\n",
        "search_url = \"https://www.amazon.in/s?k=iphone&crid=PQVCJSNISAH4&sprefix=iphone%2Caps%2C233&ref=nb_sb_noss_2\"\n",
        "headers = {\n",
        "\n",
        "    \"User-Agent\": \"Mozilla/5.0 (Windows NT 10.0; Win64; x64) AppleWebKit/537.36 (KHTML, like Gecko) Chrome/91.0.4472.124 Safari/537.36\"\n",
        "\n",
        "}"
      ],
      "metadata": {
        "id": "dGEyMMjHirgY"
      },
      "execution_count": 10,
      "outputs": []
    },
    {
      "cell_type": "code",
      "source": [
        "response=requests.get(search_url,headers=headers)\n",
        "soup=BeautifulSoup(response.text,'html.parser')\n",
        "product = soup.select_one(\"span.a-size-medium\")\n",
        "price=soup.select_one(\"span.a-price-whole\")\n",
        "if product and price:\n",
        "  print(f\"product:{product.text.strip()}\")\n",
        "  print(f\"price:{price.text.strip()}\")\n",
        "else:\n",
        "  print(\"could not find product detail.\")"
      ],
      "metadata": {
        "colab": {
          "base_uri": "https://localhost:8080/"
        },
        "id": "2KFx0pAhkWEZ",
        "outputId": "eeb87903-4a31-44b7-800f-67be22eae269"
      },
      "execution_count": 11,
      "outputs": [
        {
          "output_type": "stream",
          "name": "stdout",
          "text": [
            "could not find product detail.\n"
          ]
        }
      ]
    },
    {
      "cell_type": "code",
      "source": [
        "import requests\n",
        "\n",
        "from bs4 import BeautifulSoup\n",
        "url = \"https://en.wikipedia.org/wiki/List_of_countries_and_dependencies_by_population\"\n",
        "\n",
        "\n",
        "response = requests.get(url,headers=headers)\n",
        "\n",
        "soup = BeautifulSoup(response.text, \"html.parser\")\n",
        "\n",
        "\n",
        "table = soup.find(\"table\", class_=\"wikitable\")\n",
        "\n",
        "for row in table.find_all(\"tr\")[1:6]:\n",
        "\n",
        "    columns = row.find_all(\"td\")\n",
        "\n",
        "    country = columns[1].text.strip()\n",
        "\n",
        "    population = columns[2].text.strip()\n",
        "\n",
        "\n",
        "\n",
        "    print(f\"{country}: {population}\")"
      ],
      "metadata": {
        "colab": {
          "base_uri": "https://localhost:8080/"
        },
        "id": "t8BrKEG-lmi0",
        "outputId": "09d4e64f-ae62-4e5c-c389-3c1c51021a97"
      },
      "execution_count": 12,
      "outputs": [
        {
          "output_type": "stream",
          "name": "stdout",
          "text": [
            "World: 8,119,000,000\n",
            "China: 1,408,280,000\n",
            "1,402,737,000: 17.2%\n",
            "United States: 340,110,988\n",
            "Indonesia: 282,477,584\n"
          ]
        }
      ]
    },
    {
      "cell_type": "code",
      "source": [],
      "metadata": {
        "id": "dlX40LMyoM7V"
      },
      "execution_count": null,
      "outputs": []
    }
  ]
}