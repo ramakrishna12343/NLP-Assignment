{
  "nbformat": 4,
  "nbformat_minor": 0,
  "metadata": {
    "colab": {
      "provenance": []
    },
    "kernelspec": {
      "name": "python3",
      "display_name": "Python 3"
    },
    "language_info": {
      "name": "python"
    }
  },
  "cells": [
    {
      "cell_type": "code",
      "execution_count": 1,
      "metadata": {
        "colab": {
          "base_uri": "https://localhost:8080/"
        },
        "id": "SeSiT2tqA7aU",
        "outputId": "503de103-ff06-40bc-a20a-0ea7cdf6d9c0"
      },
      "outputs": [
        {
          "output_type": "stream",
          "name": "stderr",
          "text": [
            "[nltk_data] Downloading package punkt_tab to /root/nltk_data...\n",
            "[nltk_data]   Unzipping tokenizers/punkt_tab.zip.\n",
            "[nltk_data] Downloading package punkt to /root/nltk_data...\n",
            "[nltk_data]   Unzipping tokenizers/punkt.zip.\n"
          ]
        },
        {
          "output_type": "stream",
          "name": "stdout",
          "text": [
            "Original Text:\n",
            "This is an example sentence for demonstrating text processing using NLTK and SpaCy.\n",
            "\n",
            "Text After Lowercasing and Stopword Removal:\n",
            "example sentence demonstrating text processing using nltk spacy .\n"
          ]
        },
        {
          "output_type": "stream",
          "name": "stderr",
          "text": [
            "[nltk_data] Downloading package stopwords to /root/nltk_data...\n",
            "[nltk_data]   Unzipping corpora/stopwords.zip.\n"
          ]
        }
      ],
      "source": [
        "import nltk\n",
        "from nltk.corpus import stopwords\n",
        "from nltk.tokenize import word_tokenize\n",
        "nltk.download('punkt_tab')\n",
        "nltk.download('punkt')\n",
        "nltk.download('stopwords')\n",
        "text = \"This is an example sentence for demonstrating text processing using NLTK and SpaCy.\"\n",
        "text_lower = text.lower()\n",
        "stop_words = set(stopwords.words('english'))\n",
        "word_tokens = word_tokenize(text_lower)\n",
        "filtered_words = [word for word in word_tokens if word not in stop_words]\n",
        "filtered_text = \" \".join(filtered_words)\n",
        "print(\"Original Text:\")\n",
        "print(text)\n",
        "print(\"\\nText After Lowercasing and Stopword Removal:\")\n",
        "print(filtered_text)\n",
        "\n"
      ]
    },
    {
      "cell_type": "code",
      "source": [],
      "metadata": {
        "id": "-RCOUy5KA-na"
      },
      "execution_count": null,
      "outputs": []
    }
  ]
}