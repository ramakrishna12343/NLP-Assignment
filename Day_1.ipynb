{
  "nbformat": 4,
  "nbformat_minor": 0,
  "metadata": {
    "colab": {
      "provenance": []
    },
    "kernelspec": {
      "name": "python3",
      "display_name": "Python 3"
    },
    "language_info": {
      "name": "python"
    }
  },
  "cells": [
    {
      "cell_type": "code",
      "execution_count": 1,
      "metadata": {
        "colab": {
          "base_uri": "https://localhost:8080/"
        },
        "id": "uunD-XS58wMn",
        "outputId": "59eca206-32c2-44f6-aad0-fef9345d0013"
      },
      "outputs": [
        {
          "output_type": "stream",
          "name": "stdout",
          "text": [
            "Integer variable: 10, Type: <class 'int'>\n",
            "Float variable: 3.14, Type: <class 'float'>\n",
            "String variable: Hello, world!, Type: <class 'str'>\n",
            "Boolean variable: True, Type: <class 'bool'>\n"
          ]
        }
      ],
      "source": [
        "integer_variable = 10\n",
        "\n",
        "float_variable = 3.14\n",
        "\n",
        "string_variable = \"Hello, world!\"\n",
        "\n",
        "boolean_variable = True\n",
        "\n",
        "print(f\"Integer variable: {integer_variable}, Type: {type(integer_variable)}\")\n",
        "print(f\"Float variable: {float_variable}, Type: {type(float_variable)}\")\n",
        "print(f\"String variable: {string_variable}, Type: {type(string_variable)}\")\n",
        "print(f\"Boolean variable: {boolean_variable}, Type: {type(boolean_variable)}\")"
      ]
    },
    {
      "cell_type": "code",
      "source": [],
      "metadata": {
        "id": "NMmUKCnf84vO"
      },
      "execution_count": null,
      "outputs": []
    }
  ]
}