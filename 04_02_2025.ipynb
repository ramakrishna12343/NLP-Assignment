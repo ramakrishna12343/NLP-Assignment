{
  "nbformat": 4,
  "nbformat_minor": 0,
  "metadata": {
    "colab": {
      "provenance": [],
      "authorship_tag": "ABX9TyM2GNRA8D4bg8oigVztxo5C",
      "include_colab_link": true
    },
    "kernelspec": {
      "name": "python3",
      "display_name": "Python 3"
    },
    "language_info": {
      "name": "python"
    }
  },
  "cells": [
    {
      "cell_type": "markdown",
      "metadata": {
        "id": "view-in-github",
        "colab_type": "text"
      },
      "source": [
        "<a href=\"https://colab.research.google.com/github/ramakrishna12343/NLP-Assignment/blob/main/04_02_2025.ipynb\" target=\"_parent\"><img src=\"https://colab.research.google.com/assets/colab-badge.svg\" alt=\"Open In Colab\"/></a>"
      ]
    },
    {
      "cell_type": "code",
      "execution_count": 1,
      "metadata": {
        "colab": {
          "base_uri": "https://localhost:8080/"
        },
        "id": "Fes0Sggvcvth",
        "outputId": "c8720679-ebe8-4b00-c0fe-bc5640deee9f"
      },
      "outputs": [
        {
          "output_type": "stream",
          "name": "stdout",
          "text": [
            "Collecting emot\n",
            "  Downloading emot-3.1-py3-none-any.whl.metadata (396 bytes)\n",
            "Downloading emot-3.1-py3-none-any.whl (61 kB)\n",
            "\u001b[?25l   \u001b[90m━━━━━━━━━━━━━━━━━━━━━━━━━━━━━━━━━━━━━━━━\u001b[0m \u001b[32m0.0/61.5 kB\u001b[0m \u001b[31m?\u001b[0m eta \u001b[36m-:--:--\u001b[0m\r\u001b[2K   \u001b[91m━━━━━━━━━━━━━━━━━━━━━━━━━━━━━━━━━━━━━━━\u001b[0m\u001b[91m╸\u001b[0m \u001b[32m61.4/61.5 kB\u001b[0m \u001b[31m5.4 MB/s\u001b[0m eta \u001b[36m0:00:01\u001b[0m\r\u001b[2K   \u001b[90m━━━━━━━━━━━━━━━━━━━━━━━━━━━━━━━━━━━━━━━━\u001b[0m \u001b[32m61.5/61.5 kB\u001b[0m \u001b[31m1.4 MB/s\u001b[0m eta \u001b[36m0:00:00\u001b[0m\n",
            "\u001b[?25hInstalling collected packages: emot\n",
            "Successfully installed emot-3.1\n"
          ]
        }
      ],
      "source": [
        "!pip install emot"
      ]
    },
    {
      "cell_type": "code",
      "source": [
        "text1 = \"What are you saying 😂. I am the boss 😎, and why are you so 😏\""
      ],
      "metadata": {
        "id": "U3IbnCQXc7v8"
      },
      "execution_count": 3,
      "outputs": []
    },
    {
      "cell_type": "code",
      "source": [
        "import re\n",
        "\n",
        "from emot.emo_unicode import UNICODE_EMOJI\n",
        "\n",
        "from emot.emo_unicode import EMOTICONS_EMO"
      ],
      "metadata": {
        "id": "YHadSOxpeVx7"
      },
      "execution_count": 2,
      "outputs": []
    },
    {
      "cell_type": "code",
      "source": [
        "def converting_emojis(text):\n",
        "\n",
        "    for emot in UNICODE_EMOJI:\n",
        "\n",
        "        text = text.replace(emot, \"_\".join(UNICODE_EMOJI[emot].replace(\",\",\"\")\\\n",
        "\n",
        "                                           .replace(\":\",\"\").split()))\n",
        "\n",
        "    return text\n",
        "\n",
        "\n",
        "\n",
        "converting_emojis(text1)"
      ],
      "metadata": {
        "colab": {
          "base_uri": "https://localhost:8080/",
          "height": 53
        },
        "id": "JShHZUoLeW-9",
        "outputId": "016dd6d5-2a8b-4d22-eb6f-127c1a38e903"
      },
      "execution_count": 4,
      "outputs": [
        {
          "output_type": "execute_result",
          "data": {
            "text/plain": [
              "'What are you saying face_with_tears_of_joy. I am the boss smiling_face_with_sunglasses, and why are you so smirking_face'"
            ],
            "application/vnd.google.colaboratory.intrinsic+json": {
              "type": "string"
            }
          },
          "metadata": {},
          "execution_count": 4
        }
      ]
    },
    {
      "cell_type": "code",
      "source": [
        "def emoji_removal(string):\n",
        "\n",
        "    emoji_unicodes = re.compile(\"[\"\n",
        "\n",
        "                               u\"\\U0001F600-\\U0001F64F\"\n",
        "                               u\"\\U0001F300-\\U0001F5FF\"\n",
        "\n",
        "                               u\"\\U0001F680-\\U0001F6FF\"\n",
        "\n",
        "                               u\"\\U0001F1E0-\\U0001F1FF\"\n",
        "\n",
        "                               u\"\\U00002500-\\U00002BEF\"\n",
        "\n",
        "                               u\"\\U00002702-\\U000027B0\"\n",
        "\n",
        "                               u\"\\U000024C2-\\U0001F251\"\n",
        "\n",
        "                               u\"\\U0001f926-\\U0001f937\"\n",
        "\n",
        "                               u\"\\U00010000-\\U0010ffff\"\n",
        "\n",
        "u\"\\u2640-\\u2642\"\n",
        "\n",
        "                               u\"\\u2600-\\u2B55\"\n",
        "\n",
        "                               u\"\\u200d\"\n",
        "\n",
        "                               u\"\\u23cf\"\n",
        "\n",
        "                               u\"\\u23e9\"\n",
        "\n",
        "                               u\"\\u231a\"\n",
        "\n",
        "                               u\"\\ufe0f\"\n",
        "\n",
        "                               u\"\\u3030\"\n",
        "\n",
        "                               \"]+\", flags=re.UNICODE)\n",
        "\n",
        "    return emoji_unicodes.sub(r'', string)\n",
        "\n",
        "emoji_removal(text1)"
      ],
      "metadata": {
        "colab": {
          "base_uri": "https://localhost:8080/",
          "height": 36
        },
        "id": "chLD-alIgfBO",
        "outputId": "1ae77272-16b1-4bf4-f7d0-9335433d9d27"
      },
      "execution_count": 6,
      "outputs": [
        {
          "output_type": "execute_result",
          "data": {
            "text/plain": [
              "'What are you saying . I am the boss , and why are you so '"
            ],
            "application/vnd.google.colaboratory.intrinsic+json": {
              "type": "string"
            }
          },
          "metadata": {},
          "execution_count": 6
        }
      ]
    },
    {
      "cell_type": "code",
      "source": [],
      "metadata": {
        "id": "EkMQrDE0gjX2"
      },
      "execution_count": null,
      "outputs": []
    }
  ]
}